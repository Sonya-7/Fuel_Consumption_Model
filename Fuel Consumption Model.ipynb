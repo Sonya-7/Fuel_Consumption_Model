{
 "cells": [
  {
   "cell_type": "markdown",
   "id": "92401bdf",
   "metadata": {
    "papermill": {
     "duration": 0.016059,
     "end_time": "2022-05-12T14:03:41.357092",
     "exception": false,
     "start_time": "2022-05-12T14:03:41.341033",
     "status": "completed"
    },
    "tags": []
   },
   "source": [
    "Import Libraries needed"
   ]
  },
  {
   "cell_type": "code",
   "execution_count": 1,
   "id": "8eba2cd5",
   "metadata": {
    "execution": {
     "iopub.execute_input": "2022-05-12T14:03:41.389531Z",
     "iopub.status.busy": "2022-05-12T14:03:41.388685Z",
     "iopub.status.idle": "2022-05-12T14:03:42.650280Z",
     "shell.execute_reply": "2022-05-12T14:03:42.648830Z"
    },
    "papermill": {
     "duration": 1.281036,
     "end_time": "2022-05-12T14:03:42.653114",
     "exception": false,
     "start_time": "2022-05-12T14:03:41.372078",
     "status": "completed"
    },
    "tags": []
   },
   "outputs": [],
   "source": [
    "import matplotlib.pyplot as plt\n",
    "import pandas as pd\n",
    "import pylab as pl\n",
    "import numpy as np\n",
    "%matplotlib inline\n",
    "\n",
    "from sklearn import linear_model\n",
    "from sklearn.metrics import r2_score"
   ]
  },
  {
   "cell_type": "markdown",
   "id": "5a844a33",
   "metadata": {
    "papermill": {
     "duration": 0.021224,
     "end_time": "2022-05-12T14:03:42.690734",
     "exception": false,
     "start_time": "2022-05-12T14:03:42.669510",
     "status": "completed"
    },
    "tags": []
   },
   "source": [
    "Import dataset"
   ]
  },
  {
   "cell_type": "code",
   "execution_count": 2,
   "id": "110ac2ff",
   "metadata": {
    "execution": {
     "iopub.execute_input": "2022-05-12T14:03:42.722171Z",
     "iopub.status.busy": "2022-05-12T14:03:42.721370Z",
     "iopub.status.idle": "2022-05-12T14:03:42.766232Z",
     "shell.execute_reply": "2022-05-12T14:03:42.765439Z"
    },
    "papermill": {
     "duration": 0.063555,
     "end_time": "2022-05-12T14:03:42.769065",
     "exception": false,
     "start_time": "2022-05-12T14:03:42.705510",
     "status": "completed"
    },
    "tags": []
   },
   "outputs": [
    {
     "data": {
      "text/html": [
       "<div>\n",
       "<style scoped>\n",
       "    .dataframe tbody tr th:only-of-type {\n",
       "        vertical-align: middle;\n",
       "    }\n",
       "\n",
       "    .dataframe tbody tr th {\n",
       "        vertical-align: top;\n",
       "    }\n",
       "\n",
       "    .dataframe thead th {\n",
       "        text-align: right;\n",
       "    }\n",
       "</style>\n",
       "<table border=\"1\" class=\"dataframe\">\n",
       "  <thead>\n",
       "    <tr style=\"text-align: right;\">\n",
       "      <th></th>\n",
       "      <th>MODELYEAR</th>\n",
       "      <th>MAKE</th>\n",
       "      <th>MODEL</th>\n",
       "      <th>VEHICLECLASS</th>\n",
       "      <th>ENGINESIZE</th>\n",
       "      <th>CYLINDERS</th>\n",
       "      <th>TRANSMISSION</th>\n",
       "      <th>FUELTYPE</th>\n",
       "      <th>FUELCONSUMPTION_CITY</th>\n",
       "      <th>FUELCONSUMPTION_HWY</th>\n",
       "      <th>FUELCONSUMPTION_COMB</th>\n",
       "      <th>FUELCONSUMPTION_COMB_MPG</th>\n",
       "      <th>CO2EMISSIONS</th>\n",
       "    </tr>\n",
       "  </thead>\n",
       "  <tbody>\n",
       "    <tr>\n",
       "      <th>0</th>\n",
       "      <td>2014</td>\n",
       "      <td>ACURA</td>\n",
       "      <td>ILX</td>\n",
       "      <td>COMPACT</td>\n",
       "      <td>2.0</td>\n",
       "      <td>4</td>\n",
       "      <td>AS5</td>\n",
       "      <td>Z</td>\n",
       "      <td>9.9</td>\n",
       "      <td>6.7</td>\n",
       "      <td>8.5</td>\n",
       "      <td>33</td>\n",
       "      <td>196</td>\n",
       "    </tr>\n",
       "    <tr>\n",
       "      <th>1</th>\n",
       "      <td>2014</td>\n",
       "      <td>ACURA</td>\n",
       "      <td>ILX</td>\n",
       "      <td>COMPACT</td>\n",
       "      <td>2.4</td>\n",
       "      <td>4</td>\n",
       "      <td>M6</td>\n",
       "      <td>Z</td>\n",
       "      <td>11.2</td>\n",
       "      <td>7.7</td>\n",
       "      <td>9.6</td>\n",
       "      <td>29</td>\n",
       "      <td>221</td>\n",
       "    </tr>\n",
       "    <tr>\n",
       "      <th>2</th>\n",
       "      <td>2014</td>\n",
       "      <td>ACURA</td>\n",
       "      <td>ILX HYBRID</td>\n",
       "      <td>COMPACT</td>\n",
       "      <td>1.5</td>\n",
       "      <td>4</td>\n",
       "      <td>AV7</td>\n",
       "      <td>Z</td>\n",
       "      <td>6.0</td>\n",
       "      <td>5.8</td>\n",
       "      <td>5.9</td>\n",
       "      <td>48</td>\n",
       "      <td>136</td>\n",
       "    </tr>\n",
       "    <tr>\n",
       "      <th>3</th>\n",
       "      <td>2014</td>\n",
       "      <td>ACURA</td>\n",
       "      <td>MDX 4WD</td>\n",
       "      <td>SUV - SMALL</td>\n",
       "      <td>3.5</td>\n",
       "      <td>6</td>\n",
       "      <td>AS6</td>\n",
       "      <td>Z</td>\n",
       "      <td>12.7</td>\n",
       "      <td>9.1</td>\n",
       "      <td>11.1</td>\n",
       "      <td>25</td>\n",
       "      <td>255</td>\n",
       "    </tr>\n",
       "    <tr>\n",
       "      <th>4</th>\n",
       "      <td>2014</td>\n",
       "      <td>ACURA</td>\n",
       "      <td>RDX AWD</td>\n",
       "      <td>SUV - SMALL</td>\n",
       "      <td>3.5</td>\n",
       "      <td>6</td>\n",
       "      <td>AS6</td>\n",
       "      <td>Z</td>\n",
       "      <td>12.1</td>\n",
       "      <td>8.7</td>\n",
       "      <td>10.6</td>\n",
       "      <td>27</td>\n",
       "      <td>244</td>\n",
       "    </tr>\n",
       "  </tbody>\n",
       "</table>\n",
       "</div>"
      ],
      "text/plain": [
       "   MODELYEAR   MAKE       MODEL VEHICLECLASS  ENGINESIZE  CYLINDERS  \\\n",
       "0       2014  ACURA         ILX      COMPACT         2.0          4   \n",
       "1       2014  ACURA         ILX      COMPACT         2.4          4   \n",
       "2       2014  ACURA  ILX HYBRID      COMPACT         1.5          4   \n",
       "3       2014  ACURA     MDX 4WD  SUV - SMALL         3.5          6   \n",
       "4       2014  ACURA     RDX AWD  SUV - SMALL         3.5          6   \n",
       "\n",
       "  TRANSMISSION FUELTYPE  FUELCONSUMPTION_CITY  FUELCONSUMPTION_HWY  \\\n",
       "0          AS5        Z                   9.9                  6.7   \n",
       "1           M6        Z                  11.2                  7.7   \n",
       "2          AV7        Z                   6.0                  5.8   \n",
       "3          AS6        Z                  12.7                  9.1   \n",
       "4          AS6        Z                  12.1                  8.7   \n",
       "\n",
       "   FUELCONSUMPTION_COMB  FUELCONSUMPTION_COMB_MPG  CO2EMISSIONS  \n",
       "0                   8.5                        33           196  \n",
       "1                   9.6                        29           221  \n",
       "2                   5.9                        48           136  \n",
       "3                  11.1                        25           255  \n",
       "4                  10.6                        27           244  "
      ]
     },
     "execution_count": 2,
     "metadata": {},
     "output_type": "execute_result"
    }
   ],
   "source": [
    "df= pd.read_csv('../input/fuel-consumption/FuelConsumption.csv')\n",
    "df.head()"
   ]
  },
  {
   "cell_type": "markdown",
   "id": "7eb5b138",
   "metadata": {
    "papermill": {
     "duration": 0.014831,
     "end_time": "2022-05-12T14:03:42.799429",
     "exception": false,
     "start_time": "2022-05-12T14:03:42.784598",
     "status": "completed"
    },
    "tags": []
   },
   "source": [
    "Let's explore some features of the dataset"
   ]
  },
  {
   "cell_type": "code",
   "execution_count": 3,
   "id": "a01688aa",
   "metadata": {
    "execution": {
     "iopub.execute_input": "2022-05-12T14:03:42.831634Z",
     "iopub.status.busy": "2022-05-12T14:03:42.830851Z",
     "iopub.status.idle": "2022-05-12T14:03:42.849443Z",
     "shell.execute_reply": "2022-05-12T14:03:42.848843Z"
    },
    "papermill": {
     "duration": 0.03679,
     "end_time": "2022-05-12T14:03:42.851231",
     "exception": false,
     "start_time": "2022-05-12T14:03:42.814441",
     "status": "completed"
    },
    "tags": []
   },
   "outputs": [
    {
     "data": {
      "text/html": [
       "<div>\n",
       "<style scoped>\n",
       "    .dataframe tbody tr th:only-of-type {\n",
       "        vertical-align: middle;\n",
       "    }\n",
       "\n",
       "    .dataframe tbody tr th {\n",
       "        vertical-align: top;\n",
       "    }\n",
       "\n",
       "    .dataframe thead th {\n",
       "        text-align: right;\n",
       "    }\n",
       "</style>\n",
       "<table border=\"1\" class=\"dataframe\">\n",
       "  <thead>\n",
       "    <tr style=\"text-align: right;\">\n",
       "      <th></th>\n",
       "      <th>ENGINESIZE</th>\n",
       "      <th>CYLINDERS</th>\n",
       "      <th>FUELCONSUMPTION_COMB</th>\n",
       "      <th>CO2EMISSIONS</th>\n",
       "    </tr>\n",
       "  </thead>\n",
       "  <tbody>\n",
       "    <tr>\n",
       "      <th>0</th>\n",
       "      <td>2.0</td>\n",
       "      <td>4</td>\n",
       "      <td>8.5</td>\n",
       "      <td>196</td>\n",
       "    </tr>\n",
       "    <tr>\n",
       "      <th>1</th>\n",
       "      <td>2.4</td>\n",
       "      <td>4</td>\n",
       "      <td>9.6</td>\n",
       "      <td>221</td>\n",
       "    </tr>\n",
       "    <tr>\n",
       "      <th>2</th>\n",
       "      <td>1.5</td>\n",
       "      <td>4</td>\n",
       "      <td>5.9</td>\n",
       "      <td>136</td>\n",
       "    </tr>\n",
       "    <tr>\n",
       "      <th>3</th>\n",
       "      <td>3.5</td>\n",
       "      <td>6</td>\n",
       "      <td>11.1</td>\n",
       "      <td>255</td>\n",
       "    </tr>\n",
       "    <tr>\n",
       "      <th>4</th>\n",
       "      <td>3.5</td>\n",
       "      <td>6</td>\n",
       "      <td>10.6</td>\n",
       "      <td>244</td>\n",
       "    </tr>\n",
       "  </tbody>\n",
       "</table>\n",
       "</div>"
      ],
      "text/plain": [
       "   ENGINESIZE  CYLINDERS  FUELCONSUMPTION_COMB  CO2EMISSIONS\n",
       "0         2.0          4                   8.5           196\n",
       "1         2.4          4                   9.6           221\n",
       "2         1.5          4                   5.9           136\n",
       "3         3.5          6                  11.1           255\n",
       "4         3.5          6                  10.6           244"
      ]
     },
     "execution_count": 3,
     "metadata": {},
     "output_type": "execute_result"
    }
   ],
   "source": [
    "cdf=df[['ENGINESIZE', 'CYLINDERS', 'FUELCONSUMPTION_COMB', 'CO2EMISSIONS']]\n",
    "cdf.head()"
   ]
  },
  {
   "cell_type": "markdown",
   "id": "2dd9bd35",
   "metadata": {
    "papermill": {
     "duration": 0.015735,
     "end_time": "2022-05-12T14:03:42.883424",
     "exception": false,
     "start_time": "2022-05-12T14:03:42.867689",
     "status": "completed"
    },
    "tags": []
   },
   "source": [
    "Let's plot each of these features"
   ]
  },
  {
   "cell_type": "code",
   "execution_count": 4,
   "id": "688075ef",
   "metadata": {
    "execution": {
     "iopub.execute_input": "2022-05-12T14:03:42.919479Z",
     "iopub.status.busy": "2022-05-12T14:03:42.918523Z",
     "iopub.status.idle": "2022-05-12T14:03:43.385559Z",
     "shell.execute_reply": "2022-05-12T14:03:43.384972Z"
    },
    "papermill": {
     "duration": 0.487279,
     "end_time": "2022-05-12T14:03:43.387475",
     "exception": false,
     "start_time": "2022-05-12T14:03:42.900196",
     "status": "completed"
    },
    "tags": []
   },
   "outputs": [
    {
     "data": {
      "image/png": "[encoded data removed]",
      "text/plain": [
       "<Figure size 432x288 with 4 Axes>"
      ]
     },
     "metadata": {
      "needs_background": "light"
     },
     "output_type": "display_data"
    }
   ],
   "source": [
    "viz=cdf[['CYLINDERS','ENGINESIZE','CO2EMISSIONS','FUELCONSUMPTION_COMB']]\n",
    "viz.hist()\n",
    "plt.show()"
   ]
  },
  {
   "cell_type": "markdown",
   "id": "1032bf4b",
   "metadata": {
    "papermill": {
     "duration": 0.020039,
     "end_time": "2022-05-12T14:03:43.427473",
     "exception": false,
     "start_time": "2022-05-12T14:03:43.407434",
     "status": "completed"
    },
    "tags": []
   },
   "source": [
    "Now, let's plot each of these features against the Emission, to see how linear their relationship is:"
   ]
  },
  {
   "cell_type": "code",
   "execution_count": 5,
   "id": "4d29e1f3",
   "metadata": {
    "execution": {
     "iopub.execute_input": "2022-05-12T14:03:43.461677Z",
     "iopub.status.busy": "2022-05-12T14:03:43.461132Z",
     "iopub.status.idle": "2022-05-12T14:03:43.622742Z",
     "shell.execute_reply": "2022-05-12T14:03:43.621789Z"
    },
    "papermill": {
     "duration": 0.181135,
     "end_time": "2022-05-12T14:03:43.624857",
     "exception": false,
     "start_time": "2022-05-12T14:03:43.443722",
     "status": "completed"
    },
    "tags": []
   },
   "outputs": [
    {
     "data": {
      "image/png": "[encoded data removed]",
      "text/plain": [
       "<Figure size 432x288 with 1 Axes>"
      ]
     },
     "metadata": {
      "needs_background": "light"
     },
     "output_type": "display_data"
    }
   ],
   "source": [
    "plt.scatter(cdf.FUELCONSUMPTION_COMB, cdf.CO2EMISSIONS,  color='green')\n",
    "plt.xlabel(\"FUELCONSUMPTION_COMB\")\n",
    "plt.ylabel(\"Emission\")\n",
    "plt.title('Relationship between fuel consimption and Emssions')\n",
    "plt.show()"
   ]
  },
  {
   "cell_type": "code",
   "execution_count": 6,
   "id": "b7c00503",
   "metadata": {
    "execution": {
     "iopub.execute_input": "2022-05-12T14:03:43.660973Z",
     "iopub.status.busy": "2022-05-12T14:03:43.660685Z",
     "iopub.status.idle": "2022-05-12T14:03:43.855957Z",
     "shell.execute_reply": "2022-05-12T14:03:43.855004Z"
    },
    "papermill": {
     "duration": 0.216024,
     "end_time": "2022-05-12T14:03:43.858143",
     "exception": false,
     "start_time": "2022-05-12T14:03:43.642119",
     "status": "completed"
    },
    "tags": []
   },
   "outputs": [
    {
     "data": {
      "image/png": "[encoded data removed]",
      "text/plain": [
       "<Figure size 432x288 with 1 Axes>"
      ]
     },
     "metadata": {
      "needs_background": "light"
     },
     "output_type": "display_data"
    }
   ],
   "source": [
    "plt.scatter(cdf.ENGINESIZE, cdf.CO2EMISSIONS,  color='blue')\n",
    "plt.xlabel(\"Engine size\")\n",
    "plt.ylabel(\"Emission\")\n",
    "plt.title('Relationship between engine size and Emssions')\n",
    "plt.show()"
   ]
  },
  {
   "cell_type": "code",
   "execution_count": 7,
   "id": "c9ef9f5a",
   "metadata": {
    "execution": {
     "iopub.execute_input": "2022-05-12T14:03:43.897063Z",
     "iopub.status.busy": "2022-05-12T14:03:43.896252Z",
     "iopub.status.idle": "2022-05-12T14:03:44.092758Z",
     "shell.execute_reply": "2022-05-12T14:03:44.091798Z"
    },
    "papermill": {
     "duration": 0.218127,
     "end_time": "2022-05-12T14:03:44.094891",
     "exception": false,
     "start_time": "2022-05-12T14:03:43.876764",
     "status": "completed"
    },
    "tags": []
   },
   "outputs": [
    {
     "data": {
      "image/png": "[encoded data removed]",
      "text/plain": [
       "<Figure size 432x288 with 1 Axes>"
      ]
     },
     "metadata": {
      "needs_background": "light"
     },
     "output_type": "display_data"
    }
   ],
   "source": [
    "plt.scatter(cdf.CYLINDERS, cdf.CO2EMISSIONS, color='orange')\n",
    "plt.xlabel('Cylinders')\n",
    "plt.ylabel('Emissions')\n",
    "plt.title('Relationship between vehicle cylinders and Emssions')\n",
    "plt.show()"
   ]
  },
  {
   "cell_type": "markdown",
   "id": "e190c753",
   "metadata": {
    "papermill": {
     "duration": 0.019318,
     "end_time": "2022-05-12T14:03:44.133790",
     "exception": false,
     "start_time": "2022-05-12T14:03:44.114472",
     "status": "completed"
    },
    "tags": []
   },
   "source": [
    "Now lets split the data into testing and training sets"
   ]
  },
  {
   "cell_type": "code",
   "execution_count": 8,
   "id": "e8fac41d",
   "metadata": {
    "execution": {
     "iopub.execute_input": "2022-05-12T14:03:44.175092Z",
     "iopub.status.busy": "2022-05-12T14:03:44.174087Z",
     "iopub.status.idle": "2022-05-12T14:03:44.180391Z",
     "shell.execute_reply": "2022-05-12T14:03:44.179576Z"
    },
    "papermill": {
     "duration": 0.029189,
     "end_time": "2022-05-12T14:03:44.182480",
     "exception": false,
     "start_time": "2022-05-12T14:03:44.153291",
     "status": "completed"
    },
    "tags": []
   },
   "outputs": [],
   "source": [
    "msk = np.random.rand(len(df)) < 0.8\n",
    "train = cdf[msk]\n",
    "test = cdf[~msk]"
   ]
  },
  {
   "cell_type": "markdown",
   "id": "6f906e21",
   "metadata": {
    "papermill": {
     "duration": 0.018414,
     "end_time": "2022-05-12T14:03:44.219614",
     "exception": false,
     "start_time": "2022-05-12T14:03:44.201200",
     "status": "completed"
    },
    "tags": []
   },
   "source": [
    "Training data"
   ]
  },
  {
   "cell_type": "code",
   "execution_count": 9,
   "id": "bfcc3f89",
   "metadata": {
    "execution": {
     "iopub.execute_input": "2022-05-12T14:03:44.258744Z",
     "iopub.status.busy": "2022-05-12T14:03:44.258452Z",
     "iopub.status.idle": "2022-05-12T14:03:44.449648Z",
     "shell.execute_reply": "2022-05-12T14:03:44.448777Z"
    },
    "papermill": {
     "duration": 0.213461,
     "end_time": "2022-05-12T14:03:44.451797",
     "exception": false,
     "start_time": "2022-05-12T14:03:44.238336",
     "status": "completed"
    },
    "tags": []
   },
   "outputs": [
    {
     "data": {
      "image/png": "[encoded data removed]",
      "text/plain": [
       "<Figure size 432x288 with 1 Axes>"
      ]
     },
     "metadata": {
      "needs_background": "light"
     },
     "output_type": "display_data"
    }
   ],
   "source": [
    "plt.scatter(train.ENGINESIZE, train.CO2EMISSIONS)\n",
    "plt.xlabel(\"Engine size\")\n",
    "plt.ylabel(\"Emission\")\n",
    "plt.show()"
   ]
  },
  {
   "cell_type": "markdown",
   "id": "73129aa7",
   "metadata": {
    "papermill": {
     "duration": 0.020244,
     "end_time": "2022-05-12T14:03:44.493022",
     "exception": false,
     "start_time": "2022-05-12T14:03:44.472778",
     "status": "completed"
    },
    "tags": []
   },
   "source": [
    "Model data"
   ]
  },
  {
   "cell_type": "code",
   "execution_count": 10,
   "id": "4d83a649",
   "metadata": {
    "execution": {
     "iopub.execute_input": "2022-05-12T14:03:44.533842Z",
     "iopub.status.busy": "2022-05-12T14:03:44.533354Z",
     "iopub.status.idle": "2022-05-12T14:03:44.554881Z",
     "shell.execute_reply": "2022-05-12T14:03:44.553815Z"
    },
    "papermill": {
     "duration": 0.043935,
     "end_time": "2022-05-12T14:03:44.556788",
     "exception": false,
     "start_time": "2022-05-12T14:03:44.512853",
     "status": "completed"
    },
    "tags": []
   },
   "outputs": [
    {
     "name": "stdout",
     "output_type": "stream",
     "text": [
      "Coefficients:  [[38.87222088]]\n",
      "Intercept:  [125.95466371]\n"
     ]
    }
   ],
   "source": [
    "regr = linear_model.LinearRegression()\n",
    "train_x = np.asanyarray(train[['ENGINESIZE']])\n",
    "train_y = np.asanyarray(train[['CO2EMISSIONS']])\n",
    "regr.fit(train_x, train_y)\n",
    "# The coefficients\n",
    "print ('Coefficients: ', regr.coef_)\n",
    "print ('Intercept: ',regr.intercept_)"
   ]
  },
  {
   "cell_type": "markdown",
   "id": "9fc47e2b",
   "metadata": {
    "papermill": {
     "duration": 0.020537,
     "end_time": "2022-05-12T14:03:44.597938",
     "exception": false,
     "start_time": "2022-05-12T14:03:44.577401",
     "status": "completed"
    },
    "tags": []
   },
   "source": [
    "Plot fit line over the data"
   ]
  },
  {
   "cell_type": "code",
   "execution_count": 11,
   "id": "b1e9d3fc",
   "metadata": {
    "execution": {
     "iopub.execute_input": "2022-05-12T14:03:44.639538Z",
     "iopub.status.busy": "2022-05-12T14:03:44.639283Z",
     "iopub.status.idle": "2022-05-12T14:03:44.829146Z",
     "shell.execute_reply": "2022-05-12T14:03:44.828261Z"
    },
    "papermill": {
     "duration": 0.212783,
     "end_time": "2022-05-12T14:03:44.831103",
     "exception": false,
     "start_time": "2022-05-12T14:03:44.618320",
     "status": "completed"
    },
    "tags": []
   },
   "outputs": [
    {
     "data": {
      "image/png": "[encoded data removed]",
      "text/plain": [
       "<Figure size 432x288 with 1 Axes>"
      ]
     },
     "metadata": {
      "needs_background": "light"
     },
     "output_type": "display_data"
    }
   ],
   "source": [
    "plt.scatter(train.ENGINESIZE, train.CO2EMISSIONS)\n",
    "plt.plot(train_x, regr.coef_[0][0]*train_x + regr.intercept_[0], '-r')\n",
    "plt.xlabel(\"Engine size\")\n",
    "plt.ylabel(\"Emission\")\n",
    "plt.show()"
   ]
  },
  {
   "cell_type": "markdown",
   "id": "d58d4d2c",
   "metadata": {
    "papermill": {
     "duration": 0.021361,
     "end_time": "2022-05-12T14:03:44.873991",
     "exception": false,
     "start_time": "2022-05-12T14:03:44.852630",
     "status": "completed"
    },
    "tags": []
   },
   "source": [
    "Model Evaluation using MSE (mean squared error)"
   ]
  },
  {
   "cell_type": "code",
   "execution_count": 12,
   "id": "5585c479",
   "metadata": {
    "execution": {
     "iopub.execute_input": "2022-05-12T14:03:44.918372Z",
     "iopub.status.busy": "2022-05-12T14:03:44.918086Z",
     "iopub.status.idle": "2022-05-12T14:03:44.927482Z",
     "shell.execute_reply": "2022-05-12T14:03:44.926584Z"
    },
    "papermill": {
     "duration": 0.034664,
     "end_time": "2022-05-12T14:03:44.929973",
     "exception": false,
     "start_time": "2022-05-12T14:03:44.895309",
     "status": "completed"
    },
    "tags": []
   },
   "outputs": [
    {
     "name": "stdout",
     "output_type": "stream",
     "text": [
      "Mean absolute error: 21.29\n",
      "Residual sum of squares (MSE): 828.56\n",
      "R2-score: 0.79\n"
     ]
    }
   ],
   "source": [
    "test_x = np.asanyarray(test[['ENGINESIZE']])\n",
    "test_y = np.asanyarray(test[['CO2EMISSIONS']])\n",
    "test_y_ = regr.predict(test_x)\n",
    "\n",
    "print(\"Mean absolute error: %.2f\" % np.mean(np.absolute(test_y_ - test_y)))\n",
    "print(\"Residual sum of squares (MSE): %.2f\" % np.mean((test_y_ - test_y) ** 2))\n",
    "print(\"R2-score: %.2f\" % r2_score(test_y , test_y_))"
   ]
  },
  {
   "cell_type": "code",
   "execution_count": null,
   "id": "e73b532d",
   "metadata": {
    "papermill": {
     "duration": 0.02082,
     "end_time": "2022-05-12T14:03:44.973191",
     "exception": false,
     "start_time": "2022-05-12T14:03:44.952371",
     "status": "completed"
    },
    "tags": []
   },
   "outputs": [],
   "source": []
  }
 ],
 "metadata": {
  "kernelspec": {
   "display_name": "Python 3",
   "language": "python",
   "name": "python3"
  },
  "language_info": {
   "codemirror_mode": {
    "name": "ipython",
    "version": 3
   },
   "file_extension": ".py",
   "mimetype": "text/x-python",
   "name": "python",
   "nbconvert_exporter": "python",
   "pygments_lexer": "ipython3",
   "version": "3.7.12"
  },
  "papermill": {
   "default_parameters": {},
   "duration": 13.584546,
   "end_time": "2022-05-12T14:03:45.815402",
   "environment_variables": {},
   "exception": null,
   "input_path": "__notebook__.ipynb",
   "output_path": "__notebook__.ipynb",
   "parameters": {},
   "start_time": "2022-05-12T14:03:32.230856",
   "version": "2.3.4"
  }
 },
 "nbformat": 4,
 "nbformat_minor": 5
}
